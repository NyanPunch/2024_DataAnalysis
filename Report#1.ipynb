{
 "cells": [
  {
   "metadata": {
    "ExecuteTime": {
     "end_time": "2024-09-26T04:51:30.674843Z",
     "start_time": "2024-09-26T04:51:30.667331Z"
    }
   },
   "cell_type": "code",
   "source": [
    "# Task 1\n",
    "import numpy as np\n",
    "\n",
    "arr = (3, 3)\n",
    "arr = np.full(arr, 55)\n",
    "arr"
   ],
   "id": "74181aaa5e539c8e",
   "outputs": [
    {
     "data": {
      "text/plain": [
       "array([[55, 55, 55],\n",
       "       [55, 55, 55],\n",
       "       [55, 55, 55]])"
      ]
     },
     "execution_count": 8,
     "metadata": {},
     "output_type": "execute_result"
    }
   ],
   "execution_count": 8
  },
  {
   "cell_type": "code",
   "id": "initial_id",
   "metadata": {
    "collapsed": true,
    "ExecuteTime": {
     "end_time": "2024-09-26T04:52:16.537606Z",
     "start_time": "2024-09-26T04:52:16.517555Z"
    }
   },
   "source": [
    "# Task 2\n",
    "# Create a null vector of size 10 but the fifth value which is 1\n",
    "import numpy as np\n",
    "\n",
    "arr = np.zeros(10)\n",
    "arr[4] = 1\n",
    "arr"
   ],
   "outputs": [
    {
     "data": {
      "text/plain": [
       "array([0., 0., 0., 0., 1., 0., 0., 0., 0., 0.])"
      ]
     },
     "execution_count": 9,
     "metadata": {},
     "output_type": "execute_result"
    }
   ],
   "execution_count": 9
  },
  {
   "metadata": {
    "ExecuteTime": {
     "end_time": "2024-09-26T04:52:53.877297Z",
     "start_time": "2024-09-26T04:52:53.861159Z"
    }
   },
   "cell_type": "code",
   "source": [
    "# Task 3\n",
    "# Reverse a vector\n",
    "import numpy as np\n",
    "\n",
    "arr = np.arange(10)\n",
    "arr = arr[::-1]\n",
    "arr"
   ],
   "id": "1ff40c64f5c27d0b",
   "outputs": [
    {
     "data": {
      "text/plain": [
       "array([9, 8, 7, 6, 5, 4, 3, 2, 1, 0])"
      ]
     },
     "execution_count": 10,
     "metadata": {},
     "output_type": "execute_result"
    }
   ],
   "execution_count": 10
  },
  {
   "metadata": {
    "ExecuteTime": {
     "end_time": "2024-09-26T04:53:51.256156Z",
     "start_time": "2024-09-26T04:53:51.249841Z"
    }
   },
   "cell_type": "code",
   "source": [
    "# Task 4\n",
    "# Create a 3x3 matrix with values ranging from 0 to 8\n",
    "import numpy as np\n",
    "\n",
    "arr = np.arange(9).reshape(3,3)\n",
    "arr"
   ],
   "id": "712453d662b93a2d",
   "outputs": [
    {
     "data": {
      "text/plain": [
       "array([[0, 1, 2],\n",
       "       [3, 4, 5],\n",
       "       [6, 7, 8]])"
      ]
     },
     "execution_count": 11,
     "metadata": {},
     "output_type": "execute_result"
    }
   ],
   "execution_count": 11
  },
  {
   "metadata": {
    "ExecuteTime": {
     "end_time": "2024-09-26T05:07:11.685072Z",
     "start_time": "2024-09-26T05:07:11.538034Z"
    }
   },
   "cell_type": "code",
   "source": [
    "# Task 5\n",
    "# Create a 5x5 matrix with row values ranging from 0 to 4\n",
    "import numpy as np\n",
    "\n",
    "arr = np.zeros([5, 5])\n",
    "arr += np.arange(5)\n",
    "arr"
   ],
   "id": "7c929c81c8e1baf3",
   "outputs": [
    {
     "data": {
      "text/plain": [
       "array([[0., 1., 2., 3., 4.],\n",
       "       [0., 1., 2., 3., 4.],\n",
       "       [0., 1., 2., 3., 4.],\n",
       "       [0., 1., 2., 3., 4.],\n",
       "       [0., 1., 2., 3., 4.]])"
      ]
     },
     "execution_count": 12,
     "metadata": {},
     "output_type": "execute_result"
    }
   ],
   "execution_count": 12
  },
  {
   "metadata": {
    "ExecuteTime": {
     "end_time": "2024-09-26T05:29:22.132433Z",
     "start_time": "2024-09-26T05:29:22.113711Z"
    }
   },
   "cell_type": "code",
   "source": [
    "# Task 6\n",
    "# Create a 3D array with zeros along the second axis \n",
    "import numpy as np\n",
    "\n",
    "#ouput: [[[0. 0. 0. 0], [2,2,2,2], [0,0,0,0]], [[0,0,0,0], [2,2,2,2], [0,0,0,0]]]\n",
    "arr = np.zeros([2, 3, 4])\n",
    "arr[:, 1, :] = 2\n",
    "print(arr)"
   ],
   "id": "7073d09cb4b00e0b",
   "outputs": [
    {
     "name": "stdout",
     "output_type": "stream",
     "text": [
      "[[[0. 0. 0. 0.]\n",
      "  [2. 2. 2. 2.]\n",
      "  [0. 0. 0. 0.]]\n",
      "\n",
      " [[0. 0. 0. 0.]\n",
      "  [2. 2. 2. 2.]\n",
      "  [0. 0. 0. 0.]]]\n"
     ]
    }
   ],
   "execution_count": 39
  },
  {
   "metadata": {
    "ExecuteTime": {
     "end_time": "2024-09-26T05:15:14.822160Z",
     "start_time": "2024-09-26T05:15:14.816946Z"
    }
   },
   "cell_type": "code",
   "source": [
    "# Task 7\n",
    "# Given the following two array, add them\n",
    "import numpy as np\n",
    "\n",
    "array = np.array([\n",
    "    [3, 2, 8],\n",
    "    [4, 12, 34],\n",
    "    [23, 12, 67]\n",
    "])\n",
    "\n",
    "newRow = np.array([2, 1, 8])\n",
    "\n",
    "arr = np.vstack([array, newRow])\n",
    "print(arr)"
   ],
   "id": "a35515fb804315f4",
   "outputs": [
    {
     "name": "stdout",
     "output_type": "stream",
     "text": [
      "[[ 3  2  8]\n",
      " [ 4 12 34]\n",
      " [23 12 67]\n",
      " [ 2  1  8]]\n"
     ]
    }
   ],
   "execution_count": 19
  },
  {
   "metadata": {
    "ExecuteTime": {
     "end_time": "2024-09-26T05:19:29.622444Z",
     "start_time": "2024-09-26T05:19:29.605467Z"
    }
   },
   "cell_type": "code",
   "source": [
    "# Task 8\n",
    "# Given the following array, calculate ((A+B)*(-A/2))\n",
    "import numpy as np\n",
    "\n",
    "A = np.ones(3)*1\n",
    "B = np.ones(3)*2\n",
    "\n",
    "result1 = np.add(A, B)\n",
    "result2 = np.divide(-A, 2)\n",
    "result = np.multiply(result1, result2)\n",
    "result"
   ],
   "id": "ce13dfec5753da76",
   "outputs": [
    {
     "data": {
      "text/plain": [
       "array([-1.5, -1.5, -1.5])"
      ]
     },
     "execution_count": 24,
     "metadata": {},
     "output_type": "execute_result"
    }
   ],
   "execution_count": 24
  },
  {
   "metadata": {
    "ExecuteTime": {
     "end_time": "2024-09-26T05:24:01.609146Z",
     "start_time": "2024-09-26T05:24:01.596896Z"
    }
   },
   "cell_type": "code",
   "source": [
    "# Task 9\n",
    "# calculate mean of each row of the list\n",
    "import numpy as np\n",
    "list = [\n",
    "    np.array([3, 2, 8, 9]),\n",
    "    np.array([4, 12, 34, 25, 78]),\n",
    "    np.array([23, 12, 67])\n",
    "]\n",
    "\n",
    "for row in list:\n",
    "    print(np.mean(row))"
   ],
   "id": "64390d72ebc44291",
   "outputs": [
    {
     "name": "stdout",
     "output_type": "stream",
     "text": [
      "5.5\n",
      "30.6\n",
      "34.0\n"
     ]
    }
   ],
   "execution_count": 26
  },
  {
   "metadata": {
    "ExecuteTime": {
     "end_time": "2024-09-26T05:27:11.374118Z",
     "start_time": "2024-09-26T05:27:11.361213Z"
    }
   },
   "cell_type": "code",
   "source": [
    "# Task 10\n",
    "# how to print the following pattern of nxn using numpy\n",
    "import numpy as np\n",
    "\n",
    "arr = np.zeros([8, 8])\n",
    "arr[::2, 1::2] = 1\n",
    "arr[1::2, ::2] = 1\n",
    "print(arr)"
   ],
   "id": "13a9beabc687e637",
   "outputs": [
    {
     "name": "stdout",
     "output_type": "stream",
     "text": [
      "[[0. 1. 0. 1. 0. 1. 0. 1.]\n",
      " [1. 0. 1. 0. 1. 0. 1. 0.]\n",
      " [0. 1. 0. 1. 0. 1. 0. 1.]\n",
      " [1. 0. 1. 0. 1. 0. 1. 0.]\n",
      " [0. 1. 0. 1. 0. 1. 0. 1.]\n",
      " [1. 0. 1. 0. 1. 0. 1. 0.]\n",
      " [0. 1. 0. 1. 0. 1. 0. 1.]\n",
      " [1. 0. 1. 0. 1. 0. 1. 0.]]\n"
     ]
    }
   ],
   "execution_count": 34
  }
 ],
 "metadata": {
  "kernelspec": {
   "display_name": "Python 3",
   "language": "python",
   "name": "python3"
  },
  "language_info": {
   "codemirror_mode": {
    "name": "ipython",
    "version": 2
   },
   "file_extension": ".py",
   "mimetype": "text/x-python",
   "name": "python",
   "nbconvert_exporter": "python",
   "pygments_lexer": "ipython2",
   "version": "2.7.6"
  }
 },
 "nbformat": 4,
 "nbformat_minor": 5
}
